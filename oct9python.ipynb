{
  "nbformat": 4,
  "nbformat_minor": 0,
  "metadata": {
    "colab": {
      "provenance": [],
      "authorship_tag": "ABX9TyNGjq7U0aBrka1o12lwA5Oc",
      "include_colab_link": true
    },
    "kernelspec": {
      "name": "python3",
      "display_name": "Python 3"
    },
    "language_info": {
      "name": "python"
    }
  },
  "cells": [
    {
      "cell_type": "markdown",
      "metadata": {
        "id": "view-in-github",
        "colab_type": "text"
      },
      "source": [
        "<a href=\"https://colab.research.google.com/github/Albyjacobmathew/python/blob/main/oct9python.ipynb\" target=\"_parent\"><img src=\"https://colab.research.google.com/assets/colab-badge.svg\" alt=\"Open In Colab\"/></a>"
      ]
    },
    {
      "cell_type": "code",
      "execution_count": null,
      "metadata": {
        "id": "7-wYZLXHWpo4"
      },
      "outputs": [],
      "source": [
        "a=int(input(\"enter the age\"))\n",
        "if a>=18:\n",
        "  print(\"your are eligible\")\n",
        "else:\n",
        "  print(\"your are not eligible\")\n",
        "\n"
      ]
    },
    {
      "cell_type": "code",
      "source": [
        "#reverse\n",
        "str2=\"good morning\"\n",
        "print(str2[::-1])"
      ],
      "metadata": {
        "id": "5U4gxCmOVOML"
      },
      "execution_count": null,
      "outputs": []
    },
    {
      "cell_type": "code",
      "source": [
        "#string slice\n",
        "name=\"python programming\"\n",
        "s=\"hello\"\n",
        "print(name[2:13])\n",
        "print(name[-8:-1])\n",
        "print(name[::-5])\n",
        "print(name+s)\n",
        "print(name*5)"
      ],
      "metadata": {
        "id": "7q2UXsTq5gj2"
      },
      "execution_count": null,
      "outputs": []
    },
    {
      "cell_type": "code",
      "source": [
        "#list programms\n",
        "mylist=('Alby','24', 'Kottayam','686019')\n",
        "print(mylist)\n",
        "print(mylist[1:2])\n",
        "\n",
        "#nested index\n",
        "print(mylist[3][2])"
      ],
      "metadata": {
        "id": "vSwNfSDZ5r4S",
        "outputId": "11796246-4dc1-438b-8660-d42a4b1f711a",
        "colab": {
          "base_uri": "https://localhost:8080/"
        }
      },
      "execution_count": null,
      "outputs": [
        {
          "output_type": "stream",
          "name": "stdout",
          "text": [
            "('Alby', '24', 'Kottayam', '686019')\n",
            "('24',)\n",
            "6\n"
          ]
        }
      ]
    },
    {
      "cell_type": "code",
      "source": [
        "#tuple programming\n",
        "tup=(\"Alby\",24,\"Kottayam\",500000)\n",
        "print(tup)\n",
        "print(tup[1:3])\n",
        "print(tup[-2:-1])\n",
        "#nested index\n",
        "print(tup[0][3])\n"
      ],
      "metadata": {
        "id": "rjrk2E1j5vK0"
      },
      "execution_count": null,
      "outputs": []
    },
    {
      "cell_type": "code",
      "source": [
        "#set\n",
        "myset={29,2,375,\"oneteam\",2,'a',2,'a'}\n",
        "print(myset)"
      ],
      "metadata": {
        "id": "o9eWoTRe5yBY"
      },
      "execution_count": null,
      "outputs": []
    },
    {
      "cell_type": "code",
      "source": [
        "temperature=float(input(\"enter your temperature: \"))\n",
        "if temperature>=70:\n",
        "  print(\"wear short and t-shirts\")\n",
        "elif 50<=temperature<=69:\n",
        "  print(\"jeans and a light jacket\")\n",
        "elif temperature <50:\n",
        "  print(\"wear heavy coat and warm pants\")\n",
        "else:\n",
        "  print(\"unknown temperature\", temperature)"
      ],
      "metadata": {
        "id": "sCYvUNQr50yN"
      },
      "execution_count": null,
      "outputs": []
    },
    {
      "cell_type": "code",
      "source": [
        "year=int(input(\"enter the year:\"))\n",
        "if year%4==0 or year%100==0 and year%400==0:\n",
        "  print(year,\"this  year is a leap year\")\n",
        "else:\n",
        "  print(year,\"this is not a leap year\")\n"
      ],
      "metadata": {
        "id": "24oE4KLB59PJ"
      },
      "execution_count": null,
      "outputs": []
    },
    {
      "cell_type": "code",
      "source": [
        "month = int(input(\"Enter the month (1-12): \"))\n",
        "\n",
        "if 3 <= month <= 5:\n",
        "    season = \"Spring\"\n",
        "elif 6 <= month <= 8:\n",
        "    season = \"Summer\"\n",
        "elif 9 <= month <= 11:\n",
        "    season = \"Autumn\"\n",
        "else:\n",
        "    season = \"Winter\"\n",
        "\n",
        "print(\"The season is\", season)"
      ],
      "metadata": {
        "id": "nh6f0Slp5_k0"
      },
      "execution_count": null,
      "outputs": []
    },
    {
      "cell_type": "code",
      "source": [
        "total_price = float(input(\"Enter the total price: \"))\n",
        "\n",
        "if total_price > 100:\n",
        "    discount = total_price * 0.10\n",
        "else:\n",
        "    discount = 0\n",
        "\n",
        "final_price = total_price - discount\n",
        "print(\"Discount: $\", discount)\n",
        "print(\"Final Price: $\", final_price)"
      ],
      "metadata": {
        "id": "VGi4d9HU6HD2"
      },
      "execution_count": null,
      "outputs": []
    },
    {
      "cell_type": "code",
      "source": [
        "num = int(input(\"Enter a number: \"))\n",
        "\n",
        "if num > 1:\n",
        "    for i in range(2, num):\n",
        "        if (num % i) == 0:\n",
        "            print(num, \"is not a prime number\")\n",
        "            break\n",
        "    else:\n",
        "        print(num, \"is a prime number\")\n",
        "else:\n",
        "    print(num, \"is not a prime number\")"
      ],
      "metadata": {
        "id": "hUNtXZi56J7V"
      },
      "execution_count": null,
      "outputs": []
    },
    {
      "cell_type": "code",
      "source": [
        "name=input(\"enter your name\")\n",
        "english=int(input(\"enter your mark in english\"))\n",
        "Hindi=int(input(\"enter your mark in hindi\"))\n",
        "maths=int(input(\"enter your mark in maths\"))\n",
        "total=english+Hindi+maths\n",
        "print(\"total=\",total)\n",
        "average=total/3\n",
        "print(\"average=\",average)\n",
        "if average >=90:\n",
        "  print(\"grade is A+\")\n",
        "elif average >=80:\n",
        "  print(\"grade is A\")\n",
        "elif average >=60:\n",
        "  print(\"grade is C\")\n",
        "elif average >=40:\n",
        "  print(\"grade is D\")\n",
        "else:\n",
        "  print(\"failed\")"
      ],
      "metadata": {
        "id": "6gJuD35D6MpP"
      },
      "execution_count": null,
      "outputs": []
    },
    {
      "cell_type": "code",
      "source": [
        "USERID=input(\"enter your userID\")\n",
        "unit=int(input(\"enter your unit\"))\n",
        "if unit <=50:\n",
        "  billamount=unit*0.25\n",
        "  print(\"billamount=\", billamount)\n",
        "elif unit <=100:\n",
        "  billamount=50*0.25+(unit-50)*.50\n",
        "  print(\"billamount=\", billamount)\n",
        "elif unit <=150:\n",
        "  billamount=50*0.25+50*0.5+(unit-100)*.75\n",
        "  print(\"billamount=\", billamount)\n",
        "elif unit <=200:\n",
        "  billamount=50*0.25+50*0.5+50*0.75+(unit-150)*1\n",
        "  print(\"billamount=\", billamount)\n",
        "elif unit >200:\n",
        "  billamount=50*0.25+50*0.5+50*0.75+50*1+(unit-200)*1.5\n",
        "  print(\"billamount=\", billamount)\n",
        "else:\n",
        "  print(\"enter a valid number\")\n"
      ],
      "metadata": {
        "id": "PWIrUFRq6U53"
      },
      "execution_count": null,
      "outputs": []
    },
    {
      "cell_type": "code",
      "source": [
        "a=input(\"enter your age\")\n",
        "b=input(\"enter your height\")\n",
        "c=int(a)+int(b)\n",
        "print(c)"
      ],
      "metadata": {
        "id": "em216juX6Z0e"
      },
      "execution_count": null,
      "outputs": []
    },
    {
      "cell_type": "code",
      "source": [
        "a=int(input(\"enter two number\"))\n",
        "b=int(input())\n"
      ],
      "metadata": {
        "id": "jknSuuf96c6l"
      },
      "execution_count": null,
      "outputs": []
    },
    {
      "cell_type": "code",
      "source": [
        "a=10\n",
        "print(type(a))\n",
        "s=str(a)\n",
        "print(type(s))\n"
      ],
      "metadata": {
        "id": "HCkKFsZZ6q2u"
      },
      "execution_count": null,
      "outputs": []
    },
    {
      "cell_type": "code",
      "source": [
        "my_list=['edge',25,'dubai',85000]\n",
        "print(type(my_list))\n",
        "tup=tuple(my_list)\n",
        "print(type(tup))\n"
      ],
      "metadata": {
        "id": "7lRpGJ3H6taB"
      },
      "execution_count": null,
      "outputs": []
    },
    {
      "cell_type": "code",
      "source": [
        "#while looping\n",
        "count=1\n",
        "while(count<51):\n",
        "  print(\"THE COUNT VALUE IS : \",count)\n",
        "  count+=1 #count=count+1\n",
        "\n",
        "print(\"goodbye\")"
      ],
      "metadata": {
        "id": "B373xN0-6wvR"
      },
      "execution_count": null,
      "outputs": []
    },
    {
      "cell_type": "code",
      "source": [
        "count=0\n",
        "while(count<51):\n",
        "  print(\"THE COUNT VALUE IS : \",count)\n",
        "  count+=2 #count=count+1\n",
        "\n",
        "print(\"goodbye\")"
      ],
      "metadata": {
        "id": "LdSovHBP6xvN"
      },
      "execution_count": null,
      "outputs": []
    },
    {
      "cell_type": "code",
      "source": [
        "table=int(input(\"enter a number: \"))\n",
        "count=1\n",
        "while(count<=10):\n",
        "  count+=1\n",
        "  value=count*table\n",
        "  print(count,\"x\",table,'=',value)"
      ],
      "metadata": {
        "id": "vj4gcjnL60-Z"
      },
      "execution_count": null,
      "outputs": []
    },
    {
      "cell_type": "code",
      "source": [
        "#sum of even number\n",
        "\n",
        "limit=int(input(\"enter a limit\"))\n",
        "number=0\n",
        "sum=0\n",
        "\n",
        "while number<=limit:\n",
        "  sum=sum+number\n",
        "  number+=2\n",
        "print(\"the sum of even number is\",limit,\"=\",sum)"
      ],
      "metadata": {
        "id": "vPvNPx0D63X0"
      },
      "execution_count": null,
      "outputs": []
    },
    {
      "cell_type": "code",
      "source": [
        "#product of even number\n",
        "\n",
        "limit=int(input(\"enter a limit: \"))\n",
        "number=2\n",
        "product=1\n",
        "while number<=limit:\n",
        "  product=product*number\n",
        "  number+=2\n",
        "\n",
        "print(\"the product of even number is\",limit,\"=\",product)\n"
      ],
      "metadata": {
        "id": "aqruxuLa7BfW"
      },
      "execution_count": null,
      "outputs": []
    },
    {
      "cell_type": "code",
      "source": [
        "#Sum of natural numbers\n",
        "limit=int(input(\"enter a natural number: \"))\n",
        "number=1\n",
        "sum=0\n",
        "\n",
        "while number<=10:\n",
        "  sum=limit+sum\n",
        "  number+=1\n",
        "\n",
        "print(\"the sum natural number is\",sum)\n",
        "\n"
      ],
      "metadata": {
        "id": "wKejpjaZ7Egy",
        "colab": {
          "base_uri": "https://localhost:8080/"
        },
        "outputId": "8e56ef46-1dc8-4d59-c90b-44e28f40c8d3"
      },
      "execution_count": null,
      "outputs": [
        {
          "output_type": "stream",
          "name": "stdout",
          "text": [
            "enter a natural number: 5\n",
            "the sum natural number is 50\n"
          ]
        }
      ]
    },
    {
      "cell_type": "code",
      "source": [
        "count=1\n",
        "while(count<=10):\n",
        "  count+=1\n",
        "  if(count==5):\n",
        "    continue\n",
        "\n",
        "  print(count)\n"
      ],
      "metadata": {
        "id": "Kb46cGsD7HoJ",
        "colab": {
          "base_uri": "https://localhost:8080/"
        },
        "outputId": "fcba9a78-6b2b-4922-da7e-8a16507cdefc"
      },
      "execution_count": null,
      "outputs": [
        {
          "output_type": "stream",
          "name": "stdout",
          "text": [
            "2\n",
            "3\n",
            "4\n",
            "6\n",
            "7\n",
            "8\n",
            "9\n",
            "10\n",
            "11\n"
          ]
        }
      ]
    },
    {
      "cell_type": "code",
      "source": [
        "#factorial\n",
        "num=int(input(\"enter the number:\"))\n",
        "#factorial=1\n",
        "if num<=0:\n",
        "  print(\"negative number does't have factorial\")\n",
        "elif num==0:\n",
        "  print(\"factorial of zero is one\")\n",
        "else:\n",
        "  factorial=1\n",
        "  i=1\n",
        "  while i <= num:\n",
        "        factorial *= i\n",
        "        i += 1\n",
        "  print(\"The factorial of\", num, \"is:\", factorial)"
      ],
      "metadata": {
        "id": "T4uxLBpc7Ky4"
      },
      "execution_count": null,
      "outputs": []
    },
    {
      "cell_type": "markdown",
      "source": [
        "# New Section"
      ],
      "metadata": {
        "id": "OLyp_c4CHtQ8"
      }
    },
    {
      "cell_type": "code",
      "source": [
        "var=10\n",
        "while var>0:\n",
        "  var=var-1\n",
        "  if var==5:\n",
        "    continue\n",
        "  print(\"current value is: \",var)\n",
        "print(\"thankyou\")"
      ],
      "metadata": {
        "id": "rJGrI2Bo7OTc"
      },
      "execution_count": null,
      "outputs": []
    },
    {
      "cell_type": "code",
      "source": [
        "var=10\n",
        "while var>0:\n",
        "  var=var-1\n",
        "  if var==5:\n",
        "    break\n",
        "  print(\"current value is: \",var)\n",
        "print(\"thankyou\")"
      ],
      "metadata": {
        "id": "7Y-ZploJ7Tga"
      },
      "execution_count": null,
      "outputs": []
    },
    {
      "cell_type": "code",
      "source": [
        "var=10\n",
        "while var>0:\n",
        "  var=var-1\n",
        "  if var==5:\n",
        "    pass\n",
        "  print(\"current value is: \",var)\n",
        "print(\"thankyou\")"
      ],
      "metadata": {
        "id": "cwnoO1ol7Vfh"
      },
      "execution_count": null,
      "outputs": []
    },
    {
      "cell_type": "code",
      "source": [
        "mylist=[\"ALBY\",24,\"Manarcad\"]\n",
        "for i in mylist:\n",
        "  print(i)"
      ],
      "metadata": {
        "id": "n4qjvrwb7YDw"
      },
      "execution_count": null,
      "outputs": []
    },
    {
      "cell_type": "code",
      "source": [
        "#range function (start,stop,stepsize)\n",
        "#factorial\n",
        "num=1\n",
        "factorial=1\n",
        "if num < 0:\n",
        "   print(\"factorial does not exist for negative numbers\")\n",
        "elif num == 0:\n",
        "   print(\"The factorial of 0 is 1\")\n",
        "else:\n",
        "   for i in range(1,num + 1):\n",
        "       factorial = factorial*i\n",
        "   print(\"The factorial of\",num,\"is\",factorial)\n",
        "\n"
      ],
      "metadata": {
        "id": "WGO-yuf87bYE"
      },
      "execution_count": null,
      "outputs": []
    },
    {
      "cell_type": "code",
      "source": [
        "orginal_list = [\"a\",1,\"b\",2,\"c\",3,4,5]\n",
        "reversed_list = []\n",
        "for item in orginal_list:\n",
        "  reversed_list.insert(0,item)\n",
        "\n",
        "print(\"orginal list: \",orginal_list)\n",
        "print(\"reversed list:\",reversed_list)"
      ],
      "metadata": {
        "id": "6uvn5m-V7f-l"
      },
      "execution_count": null,
      "outputs": []
    },
    {
      "cell_type": "code",
      "source": [
        "\n"
      ],
      "metadata": {
        "id": "lMRxrVIy7g4o"
      },
      "execution_count": null,
      "outputs": []
    },
    {
      "cell_type": "code",
      "source": [
        "#palindrome or not\n",
        "word=str(input(\"enter the word: \"))\n",
        "rev==\"\"\n",
        "for i in word:\n",
        "  rev=i+rev\n",
        "if(word==rev):\n",
        "  print(word,\"is palindrome\")\n",
        "else:\n",
        "  print(word,\"is not palindrome\")\n"
      ],
      "metadata": {
        "id": "Ergcg5ZK7oDl"
      },
      "execution_count": null,
      "outputs": []
    },
    {
      "cell_type": "code",
      "source": [
        "number=[1,3,2,4,3,2,5,3,4,5,4,2]\n",
        "count={}\n",
        "for num in number:\n",
        "  if num in count:\n",
        "    count[num]+=1\n",
        "  else:\n",
        "    count[num]=1"
      ],
      "metadata": {
        "id": "n30zIGdY7q5s"
      },
      "execution_count": null,
      "outputs": []
    },
    {
      "cell_type": "code",
      "source": [
        "#automorphic number\n",
        "\n",
        "num=16\n",
        "sq=pow(num, 2)\n",
        "mod=pow(10, len(str(num)))\n",
        "\n",
        "if sq % mod == num:\n",
        "  print(\"it is an automorphic number\")\n",
        "else:\n",
        "  print(\"it is not an automorphic number\")"
      ],
      "metadata": {
        "id": "7SoaCDipC-fo"
      },
      "execution_count": null,
      "outputs": []
    },
    {
      "cell_type": "code",
      "source": [
        "#automorphic number\n",
        "\n",
        "a=int(input(\"enter a number: \"))\n",
        "square=a*a\n",
        "if a%10!=square%10:\n",
        "  print(\"not automorphic\")\n",
        "else:\n",
        "  print(\"automorphic\")"
      ],
      "metadata": {
        "id": "8qpv8hmrHkPx"
      },
      "execution_count": null,
      "outputs": []
    },
    {
      "cell_type": "code",
      "source": [
        "#trimorphic number\n",
        "\n",
        "num=int(input(\"enter a number: \"))\n",
        "square=num**2\n",
        "cube=num**3\n",
        "smod=pow(10, len(str(num)))\n",
        "cmod=pow(10, len(str(num)))\n",
        "\n",
        "if square%smod == num:\n",
        "  print(\"automorphic\")\n",
        "else:\n",
        "  print(\"not automorphic\")\n",
        "\n",
        "if cube%cmod == num:\n",
        "  print(\"trimorphic\")\n",
        "else:\n",
        "  print(\"not trimorphic\")"
      ],
      "metadata": {
        "id": "ebi818-7G7cK"
      },
      "execution_count": null,
      "outputs": []
    },
    {
      "cell_type": "code",
      "source": [
        "#calculator\n"
      ],
      "metadata": {
        "id": "9sTpfRYxFEJL"
      },
      "execution_count": null,
      "outputs": []
    },
    {
      "cell_type": "code",
      "source": [
        "#Right-Angled triangle"
      ],
      "metadata": {
        "id": "yu60dcXDFHnl"
      },
      "execution_count": null,
      "outputs": []
    },
    {
      "cell_type": "code",
      "source": [
        "#string- inbuilt methods\n",
        "\n",
        "#lens()\n",
        "my_string=\"python programming\"\n",
        "print(len(my_string))\n",
        "print(my_string.upper())\n",
        "print(my_string.lower())\n",
        "print(my_string.capitalize())\n",
        "\n",
        "my_string = \"hello, hello, helloo, world!\"\n",
        "count = my_string.count(\"hello\")\n",
        "print(count)\n",
        "\n",
        "my_string = \"hello, world!\"\n",
        "new_string = my_string.replace(\"hello\",\"hi\")\n",
        "print(new_string)\n",
        "\n",
        "my_string = \"apple,orange,banana,grape\"\n",
        "fruits=my_string.split()\n",
        "print(fruits)"
      ],
      "metadata": {
        "colab": {
          "base_uri": "https://localhost:8080/"
        },
        "id": "fIi5_z2XSVyK",
        "outputId": "96b3aa5c-f120-4a53-81e2-b350d5a7db88"
      },
      "execution_count": null,
      "outputs": [
        {
          "output_type": "stream",
          "name": "stdout",
          "text": [
            "18\n",
            "PYTHON PROGRAMMING\n",
            "python programming\n",
            "Python programming\n",
            "3\n",
            "hi, world!\n",
            "['apple,orange,banana,grape']\n"
          ]
        }
      ]
    },
    {
      "cell_type": "code",
      "source": [
        "#list-inbuilt method\n",
        "\n",
        "my_list = [1,2,3]\n",
        "my_list.append(4)\n",
        "print(my_list)\n",
        "\n",
        "my_list = [1,2,3]\n",
        "my_list.extend([4,5,6])\n",
        "print(my_list)\n",
        "\n",
        "my_list = [1,2,3]\n",
        "my_list.insert(0,12) #insert(index,item)\n",
        "print(my_list)\n",
        "\n",
        "my_list= [1,2,3,2]\n",
        "my_list.pop()\n",
        "print(my_list)\n",
        "\n",
        "my_list = [1,2,3,2]\n",
        "my_list.pop(2)\n",
        "print(my_list)\n",
        "\n",
        "my_list = [1,2,3,2]\n",
        "s=my_list.index(3)\n",
        "print(s)\n",
        "\n",
        "my_list = [41, 12, 63, 32]\n",
        "my_list.count(3)\n",
        "print(my_list)\n",
        "\n",
        "my_list = [41, 12, 63, 32]\n",
        "my_list.sort()\n",
        "print(my_list)\n",
        "\n",
        "my_list = [41, 12, 63, 32]\n",
        "sorted_list_desc = sorted(my_list, reverse=True)\n",
        "print(sorted_list_desc)\n",
        "\n",
        "my_list = [41, 12, 63, 32]\n",
        "my_list.reverse()\n",
        "print(my_list)\n",
        "\n",
        "my_list = [41, 12, 63, 32]\n",
        "my_list.clear()\n",
        "print(my_list)"
      ],
      "metadata": {
        "colab": {
          "base_uri": "https://localhost:8080/"
        },
        "id": "f9NTKlexXHwP",
        "outputId": "b63d8fe5-6e4a-48e6-92e7-27f315376e41"
      },
      "execution_count": null,
      "outputs": [
        {
          "output_type": "stream",
          "name": "stdout",
          "text": [
            "[1, 2, 3, 4]\n",
            "[1, 2, 3, 4, 5, 6]\n",
            "[12, 1, 2, 3]\n",
            "[1, 2, 3]\n",
            "[1, 2, 2]\n",
            "2\n",
            "[41, 12, 63, 32]\n",
            "[12, 32, 41, 63]\n",
            "[63, 41, 32, 12]\n",
            "[32, 63, 12, 41]\n",
            "[]\n"
          ]
        }
      ]
    },
    {
      "cell_type": "code",
      "source": [
        "#set\n",
        "\n",
        "my_set = {1,2,3,4}\n",
        "my_set.add(5)\n",
        "print(my_set)\n",
        "\n",
        "my_set.update([2,-9])\n",
        "\n",
        "my_set.remove(5)\n",
        "print(my_set)\n",
        "\n",
        "my_set.discard(4)\n",
        "print(my_set)\n",
        "\n",
        "#pop()\n",
        "#clear()"
      ],
      "metadata": {
        "colab": {
          "base_uri": "https://localhost:8080/"
        },
        "id": "_7xea77k2PC8",
        "outputId": "cc992639-971b-4b30-dc5c-0a6941a0b88f"
      },
      "execution_count": null,
      "outputs": [
        {
          "output_type": "stream",
          "name": "stdout",
          "text": [
            "{1, 2, 3, 4, 5}\n",
            "{1, 2, 3, 4, -9}\n"
          ]
        }
      ]
    },
    {
      "cell_type": "code",
      "source": [
        "word=set()\n",
        "print(word)"
      ],
      "metadata": {
        "id": "xRTsnziaB00l"
      },
      "execution_count": null,
      "outputs": []
    },
    {
      "cell_type": "code",
      "source": [
        "#dictionary\n",
        "mydict={1:2,2:4,3:6,4:8}\n",
        "print(mydict)\n",
        "print(mydict[3])\n",
        "mydict[3]=90\n",
        "print(mydict)\n",
        "mydict[5]=25\n",
        "print(mydict)\n",
        "\n",
        "del mydict[3]\n",
        "print(mydict)\n",
        "\n",
        "k=mydict.keys()\n",
        "v=mydict.values()\n",
        "i=mydict.items()\n",
        "print(k)\n",
        "print(v)\n",
        "print(i)\n",
        "\n"
      ],
      "metadata": {
        "colab": {
          "base_uri": "https://localhost:8080/"
        },
        "id": "GY91MkvxCTAN",
        "outputId": "57bdb24d-99aa-4bca-cb62-fb3c48478a47"
      },
      "execution_count": null,
      "outputs": [
        {
          "output_type": "stream",
          "name": "stdout",
          "text": [
            "{1: 2, 2: 4, 3: 6, 4: 8}\n",
            "6\n",
            "{1: 2, 2: 4, 3: 90, 4: 8}\n",
            "{1: 2, 2: 4, 3: 90, 4: 8, 5: 25}\n",
            "{1: 2, 2: 4, 4: 8, 5: 25}\n",
            "dict_keys([1, 2, 4, 5])\n",
            "dict_values([2, 4, 8, 25])\n",
            "dict_items([(1, 2), (2, 4), (4, 8), (5, 25)])\n"
          ]
        }
      ]
    },
    {
      "cell_type": "code",
      "source": [
        "#creating a dictionary\n",
        "my_dict = {'name': 'John', 'age': 25, 'city': 'New York'}\n",
        "\n",
        "#accessing values\n",
        "print(my_dict['name'])\n",
        "\n",
        "#updating values\n",
        "my_dict['age']= 24\n",
        "print(my_dict)\n",
        "\n",
        "#adding a new key value pair\n",
        "my_dict['occupation']= 'engineer'\n",
        "\n",
        "#deleting a key vale pair\n",
        "del my_dict['city']\n",
        "print(my_dict)\n",
        "\n",
        "#using keys(), values(), and items()\n",
        "keys_list = my_dict.keys()\n",
        "values_list = my_dict.values()\n",
        "items_list = my_dict.items()\n",
        "\n",
        "print(keys_list)\n",
        "print(values_list)\n",
        "print(items_list)\n",
        "\n",
        "#using get ()\n",
        "value = my_dict.get('age', 'N/A')\n",
        "print(value)\n",
        "\n",
        "value = my_dict.get('salary', 'N/A')\n",
        "print(value)\n",
        "\n",
        "#using pop()\n",
        "removed_value = my_dict.pop('age')\n",
        "print(removed_value)\n",
        "print(my_dict)\n",
        "\n",
        "#using popitem()\n",
        "removed_item = my_dict.popitem()\n",
        "print(removed_item)\n",
        "print(my_dict)\n",
        "\n",
        "#using clear()\n",
        "my_dict.clear()\n",
        "print(my_dict)\n",
        "\n",
        "#using update ()\n",
        "my_dict.update({'country': 'USA', 'age': 30})\n",
        "print(my_dict)"
      ],
      "metadata": {
        "colab": {
          "base_uri": "https://localhost:8080/"
        },
        "id": "F-9drhipG56R",
        "outputId": "433705a0-ad58-453a-b13e-d74c95f87a72"
      },
      "execution_count": null,
      "outputs": [
        {
          "output_type": "stream",
          "name": "stdout",
          "text": [
            "John\n",
            "{'name': 'John', 'age': 24, 'city': 'New York'}\n",
            "{'name': 'John', 'age': 24, 'occupation': 'engineer'}\n",
            "dict_keys(['name', 'age', 'occupation'])\n",
            "dict_values(['John', 24, 'engineer'])\n",
            "dict_items([('name', 'John'), ('age', 24), ('occupation', 'engineer')])\n",
            "24\n",
            "N/A\n",
            "24\n",
            "{'name': 'John', 'occupation': 'engineer'}\n",
            "('occupation', 'engineer')\n",
            "{'name': 'John'}\n",
            "{}\n",
            "{'country': 'USA', 'age': 30}\n"
          ]
        }
      ]
    },
    {
      "cell_type": "code",
      "source": [
        "#funtion\n",
        "#factorial\n",
        "num=int(input(\"enter the number:\"))\n",
        "def factorial():\n",
        "  if num<=0:\n",
        "    print(\"negative number does't have factorial\")\n",
        "  elif num==0:\n",
        "    print(\"factorial of zero is one\")\n",
        "  else:\n",
        "    factorial=1\n",
        "    i=1\n",
        "  while i <= num:\n",
        "        factorial *= i\n",
        "        i += 1\n",
        "  print(\"The factorial of\", num, \"is:\", factorial)\n",
        "\n",
        "factorial()\n",
        "\n",
        "\n"
      ],
      "metadata": {
        "colab": {
          "base_uri": "https://localhost:8080/"
        },
        "id": "D1uPkadEbeog",
        "outputId": "042984c7-69c7-4af5-9e9a-d3c872fde21e"
      },
      "execution_count": null,
      "outputs": [
        {
          "output_type": "stream",
          "name": "stdout",
          "text": [
            "enter the number:24\n",
            "The factorial of 24 is: 620448401733239439360000\n"
          ]
        }
      ]
    },
    {
      "cell_type": "code",
      "source": [
        "#Return\n",
        "def sum():\n",
        "  a=10\n",
        "  b=20\n",
        "  c=a+b\n",
        "  return c\n",
        "sum()"
      ],
      "metadata": {
        "id": "dxcnsJQ4jSaL"
      },
      "execution_count": null,
      "outputs": []
    },
    {
      "cell_type": "code",
      "source": [
        "#default parameter passing\n",
        "\n",
        "def sum(a,b):\n",
        "  c=a+b\n",
        "  return c\n",
        "sum(122,345)\n"
      ],
      "metadata": {
        "id": "y9nQvH9xjjEc"
      },
      "execution_count": null,
      "outputs": []
    },
    {
      "cell_type": "code",
      "source": [
        "#keyword parameter paasing\n",
        "\n",
        "def sum(a=123,b=78):\n",
        "  c=a+b\n",
        "  return c\n",
        "sum()"
      ],
      "metadata": {
        "id": "Vl6HlL1uj1dO"
      },
      "execution_count": null,
      "outputs": []
    },
    {
      "cell_type": "code",
      "source": [
        "#arbitaryarguments parameter passing\n",
        "\n",
        "def sum(*a):\n",
        "  print(a)\n",
        "\n",
        "sum(2,3,4,5,6,7)"
      ],
      "metadata": {
        "colab": {
          "base_uri": "https://localhost:8080/"
        },
        "id": "zx3SGTjukHtQ",
        "outputId": "56097ac4-0779-4eca-9a9b-85be20152371"
      },
      "execution_count": null,
      "outputs": [
        {
          "output_type": "stream",
          "name": "stdout",
          "text": [
            "(2, 3, 4, 5, 6, 7)\n"
          ]
        }
      ]
    },
    {
      "cell_type": "code",
      "source": [
        "#reference parameter passing\n",
        "\n",
        "def sum(a):\n",
        "  print(a)\n",
        "\n",
        "r=10\n",
        "sum(r)"
      ],
      "metadata": {
        "colab": {
          "base_uri": "https://localhost:8080/"
        },
        "id": "zkatwCsgqMQW",
        "outputId": "50694533-4b04-466d-abb9-96cd1d29cd24"
      },
      "execution_count": null,
      "outputs": [
        {
          "output_type": "stream",
          "name": "stdout",
          "text": [
            "10\n"
          ]
        }
      ]
    },
    {
      "cell_type": "code",
      "source": [
        "#keyword arbitaryarguement parameter passing\n",
        "\n",
        "def word(**x):\n",
        "  print(x)\n",
        "word(name='alby', age='24')"
      ],
      "metadata": {
        "colab": {
          "base_uri": "https://localhost:8080/"
        },
        "id": "7hD2f7i5qd0m",
        "outputId": "f4f188cf-c49f-47f3-9e1e-85f89a6cdd4f"
      },
      "execution_count": null,
      "outputs": [
        {
          "output_type": "stream",
          "name": "stdout",
          "text": [
            "{'name': 'alby', 'age': '24'}\n"
          ]
        }
      ]
    },
    {
      "cell_type": "code",
      "source": [
        "#phonebook\n",
        "\n",
        "contactbook={}\n",
        "\n",
        "def addcontact():\n",
        "  contactbook[name]=phone\n",
        "\n",
        "def searchcontact():\n",
        "  serach_contact=input(\"search name\")\n",
        "  if search_contact in contactbook:\n",
        "    print(search_name, \"contact number: \",contactbook[search_contact])\n",
        "  else:\n",
        "    print(\"not found\")\n",
        "\n",
        "def editcontact():\n",
        "    edit_contact=input(\"enter the edit contact   :\")\n",
        "    if edit_contact in contact:\n",
        "            phone=input(\"enter the mobile number\")\n",
        "            contact[edit_contact]=phone\n",
        "            print(\"contact updated\")\n",
        "    else :\n",
        "            print(\"Name is not found\")\n",
        "\n",
        "def display():\n",
        "     print(\"NAME \\t\\t\\t\\t CONTACT NUMBER\")\n",
        "     for x in contact:\n",
        "        print(\"{}\\t\\t\\t\\t{}\".format(x,contact.get(x)))\n",
        "\n",
        "def dele():\n",
        "    del_contact=input(\"enter the delete contact name  :\")\n",
        "    if del_contact in contact:\n",
        "            confirm=input(\"do you want to delete contact y / n  :\")\n",
        "            if confirm==\"Y\" or confirm==\"y\":\n",
        "                contact.pop(del_contact)\n",
        "            else:\n",
        "                print(\"name is not found\")\n",
        "\n",
        "\n",
        "while True:\n",
        "    choice=int(input(\"1.addcontact \\n 2.Search contact \\n 3.Display contact \\n 4.Edit contact \\n 5.delete contact \\n 6.exit \"))\n",
        "\n",
        "    if choice==1:\n",
        "        name=input(\"enter the name    :\")\n",
        "        phone=input((\"enter the phone number  : \"))\n",
        "        add()\n",
        "\n",
        "    elif choice==2:\n",
        "        search()\n",
        "\n",
        "    elif choice==3:\n",
        "        display()\n",
        "        print(\"display contact as soon as possibile\")\n",
        "\n",
        "    elif choice==4:\n",
        "         edit()\n",
        "\n",
        "\n",
        "    elif choice ==5:\n",
        "         dele()\n",
        "\n",
        "    else:\n",
        "      break\n",
        "\n"
      ],
      "metadata": {
        "id": "oYva4eUQMhnf"
      },
      "execution_count": null,
      "outputs": []
    },
    {
      "cell_type": "code",
      "source": [
        "def factorial(x):\n",
        "  if x==1:\n",
        "    return 1\n",
        "  else:\n",
        "    return(x*factorial(x-1))\n",
        "\n",
        "num=int(input(\"enter a number:  \"))\n",
        "print(\"the factorial of\", num, \"is\", factorial(num))"
      ],
      "metadata": {
        "colab": {
          "base_uri": "https://localhost:8080/"
        },
        "id": "9Jp1pE2SihcY",
        "outputId": "03da1190-f49d-4c9c-bd3a-34bd03442e6d"
      },
      "execution_count": null,
      "outputs": [
        {
          "output_type": "stream",
          "name": "stdout",
          "text": [
            "enter a number:  5\n",
            "the factorial of 5 is 120\n"
          ]
        }
      ]
    }
  ]
}